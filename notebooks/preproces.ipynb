{
 "cells": [
  {
   "cell_type": "code",
   "execution_count": 5,
   "metadata": {},
   "outputs": [],
   "source": [
    "import pandas as pd\n",
    "import pathlib"
   ]
  },
  {
   "cell_type": "code",
   "execution_count": 13,
   "metadata": {},
   "outputs": [
    {
     "name": "stdout",
     "output_type": "stream",
     "text": [
      "/Users/afshannabi/Documents/GitHub/podcast-machine\n"
     ]
    }
   ],
   "source": [
    "%cd .."
   ]
  },
  {
   "cell_type": "code",
   "execution_count": 17,
   "metadata": {},
   "outputs": [],
   "source": [
    "data_dir = pathlib.Path('data/vtt')"
   ]
  },
  {
   "cell_type": "code",
   "execution_count": 19,
   "metadata": {},
   "outputs": [
    {
     "name": "stdout",
     "output_type": "stream",
     "text": [
      "WEBVTT\n",
      "\n",
      "00:00.000 --> 00:05.060\n",
      "As part of MIT course 6S 099 Artificial General Intelligence, I've gotten the chance to sit\n",
      "\n",
      "00:05.060 --> 00:06.740\n",
      "down with Max Tagmark.\n",
      "\n",
      "00:06.740 --> 00:13.780\n",
      "He is a professor here at MIT, he's a physicist, spent a large part of his career studying the\n"
     ]
    }
   ],
   "source": [
    "fname = data_dir / 'episode_001_small.vtt'\n",
    "\n",
    "with open(fname, 'r') as f:\n",
    "    line = f.readlines()\n",
    "\n",
    "for l in line[:10]:\n",
    "    print(l.strip())\n"
   ]
  },
  {
   "cell_type": "code",
   "execution_count": null,
   "metadata": {},
   "outputs": [],
   "source": []
  }
 ],
 "metadata": {
  "kernelspec": {
   "display_name": "Python 3.9.7 ('razor-graph-analysis')",
   "language": "python",
   "name": "python3"
  },
  "language_info": {
   "codemirror_mode": {
    "name": "ipython",
    "version": 3
   },
   "file_extension": ".py",
   "mimetype": "text/x-python",
   "name": "python",
   "nbconvert_exporter": "python",
   "pygments_lexer": "ipython3",
   "version": "3.9.7"
  },
  "orig_nbformat": 4,
  "vscode": {
   "interpreter": {
    "hash": "47b8ea1f6132ba8e9646575d9f02f1a4be2d06ad6ca7c8aa33e6339238fc5213"
   }
  }
 },
 "nbformat": 4,
 "nbformat_minor": 2
}
